{
 "cells": [
  {
   "cell_type": "code",
   "execution_count": 1,
   "id": "e037360f-4d5e-4207-8878-c433052c3981",
   "metadata": {},
   "outputs": [],
   "source": [
    "from neo4j import GraphDatabase"
   ]
  },
  {
   "cell_type": "code",
   "execution_count": 2,
   "id": "d4a2f6e4-5304-46e3-97f1-dbc886412f2d",
   "metadata": {},
   "outputs": [],
   "source": [
    "uri=\"bolt://localhost:7687\"\n",
    "user=\"neo4j\"\n",
    "password=\"88888888\"\n",
    "\n",
    "driver = GraphDatabase.driver(uri, auth=(user, password))"
   ]
  },
  {
   "cell_type": "markdown",
   "id": "41b6bff6-4dc4-4bdb-ab9e-b66e68a74260",
   "metadata": {},
   "source": [
    "• Ranking de notícias: este recurso permite que, dado um usuário específico, sejam\n",
    "exibidas uma lista de notícias mais relevantes para ele, baseado em seus interesses."
   ]
  },
  {
   "cell_type": "code",
   "execution_count": 54,
   "id": "907bad10-0dfe-4d47-b5a0-bfd105b1c769",
   "metadata": {},
   "outputs": [],
   "source": [
    "@staticmethod\n",
    "def recommendNews(tx, userID):\n",
    "    result = tx.run(\"MATCH path = (u:User {id: $userID})-[read:READ]->(n:News)-[content:CONTENT]->(e:Entity)-[content2:CONTENT]->(n2:News) \"\n",
    "                    \"WHERE n2.id <> n.id \"\n",
    "                    \"WITH e, n2, rand() AS rnd \"\n",
    "                    \"WITH e, n2, collect(rnd)[0..1] AS rnd \" # collect(n2) AS nn, collect(n2.id) AS n2ic, collect(n2.title) AS n2tc, collect(n2.abstract) AS n2ac,\n",
    "                    \"RETURN e.label, n2.id, n2.title, n2.abstract ORDER BY rnd LIMIT 10\", userID=userID)\n",
    "    return list(result)"
   ]
  },
  {
   "cell_type": "code",
   "execution_count": 60,
   "id": "0eb18a7a-c399-4537-ab4c-7fbc2f562df3",
   "metadata": {},
   "outputs": [
    {
     "name": "stdout",
     "output_type": "stream",
     "text": [
      "Donald Trump - N11290 - Trump on impeachment probe: 'The Democrats are crazed and they're lunatics'v\n",
      "\n",
      "\tPresident Donald Trump gives remarks as he departs for his Keep America Great rally in Mississippi.\n",
      "\n",
      "\n",
      "\n",
      "Donald Trump - N2038 - Giuliani: I won't comply with \"illegitimate\" inquiry\n",
      "\n",
      "\tPresident Trump's personal attorney Rudy Giuliani said he will not comply with a subpoena from House Democrats, calling the impeachment inquiry \"illegitimate.\" Lawmakers are seeking documents related to Giuliani's contacts with Ukraine. Anita Kumar and Sarah Wire joined \"Red & Blue\" to discuss the latest on the inquiry and Syria.\n",
      "\n",
      "\n",
      "\n",
      "Country Music Association Awards - N57634 - Women rule the night at the CMA Awards\n",
      "\n",
      "\tWomen ruled the night Wednesday at the 53rd Country Music Association Awards, starting with Jennifer Nettles's feminist fashion statement on the red carpet; co-hosts Carrie Underwood, Reba McEntire, and Dolly Parton's sassy monologue; and, most thrillingly, an opening number starring a dozen fierce, fiery female country icons representing different generations, ranging from elder stateswoman Tanya Tucker and Crystal Gayle to Gretchen Wilson and Maren Morris.\n",
      "\n",
      "\n",
      "\n",
      "Donald Trump - N89881 - Democrats Debate Who Is Best to Take On Trump\n",
      "\n",
      "\tA final question: Tell us about a friendship you have that would surprise us? Castro: People \"older than me, who had a lot to teach me,\" and \"people who thought differently from me.\" Gabbard: Former Representative Trey Gowdy, the South Carolina Republican who led an investigation into Hillary Clinton's use of a private email server. Klobuchar: Senator John McCain. She tells stories about traveling with Mr. McCain and visiting him when he was...\n",
      "\n",
      "\n",
      "\n",
      "Minnesota Vikings - N122869 - Catharthis: 80 Best Pics from Cowboys-Vikings game\n",
      "\n",
      "\tWe know, it's never easy to look back at your failures, but sometimes that's exactly what needs to be done. The Dallas Cowboys will have to go through film work early this week and relive their play-calling choices and lack of execution in their 28-24 loss to the Minnesota Vikings in Week 10. As fans, there isn't that same ability to own up to your own mistakes, there's only a long wait until the next game. While many will remove the team's name...\n",
      "\n",
      "\n",
      "\n",
      "Donald Trump - N84538 - Energy Secretary Rick Perry Notifies President Trump He's Resigning\n",
      "\n",
      "\tEnergy Secretary Rick Perry has notified the president that he intends to leave his job soon.\n",
      "\n",
      "\n",
      "\n",
      "United States - N97043 - Gov. Ned Lamont hails Hartford as \"most fun stadium in America''\n",
      "\n",
      "\tGov. Ned Lamont hailed the Hartford Yard Goats this week as the team announced that it will be hosting the Eastern League All-Star game in 2021. During an energetic event announcing the game, Lamont stepped to the podium to thank the Solomon family that owns the team and the fans who have made sell-outs a regular occurrence at the new ball park near Interstate 84. \"It's the most fun stadium in ...\n",
      "\n",
      "\n",
      "\n",
      "United States - N11793 - The world's only $100 billion utility owes its rise to wind power\n",
      "\n",
      "\tTwo decades ago, when coal ruled U.S. power generation, a Florida utility plowed some of its extra cash into a wind farm atop a desolate Oregon plateau.\n",
      "\n",
      "\n",
      "\n",
      "United States - N109409 - McDonald's stock sinks as company posts rare profit miss\n",
      "\n",
      "\tMcDonald's reported a quarterly profit that missed Wall Street estimates for the first time in two years as it invested heavily in sprucing up U.S. outlets and speeding up delivery, sending its shares down nearly 3%.\n",
      "\n",
      "\n",
      "\n",
      "United States - N75726 - Al-Baghdadi dead: Breaking down the raid on the ISIS leader\n",
      "\n",
      "\tCBS News national security correspondent David Martin provides more context on what Abu Bakr al-Baghdadi's death means for the U.S. fight against ISIS, and how the raid played out.\n",
      "\n",
      "\n",
      "\n"
     ]
    }
   ],
   "source": [
    "userID = \"U169207\"\n",
    "with driver.session() as session:\n",
    "    newsList = session.execute_read(recommendNews, userID)\n",
    "    for news in newsList: \n",
    "        print(news.get(\"e.label\") + \" - \" + news.get(\"n2.id\") + \" - \" + news.get(\"n2.title\") + \"\\n\\n\\t\" + news.get(\"n2.abstract\") + \"\\n\\n\\n\") # news.data() news.get(\"n2c[0]\")"
   ]
  },
  {
   "cell_type": "markdown",
   "id": "d3a61c53-e0fd-43c1-91a1-1db87909cd97",
   "metadata": {},
   "source": [
    "• Ranking de usuários: este recurso permite que, dado uma notícia específica, sejam\n",
    "exibidos uma lista de usuários que podem ter interesse nessa notícia, baseado em\n",
    "seus interesses conhecidos."
   ]
  },
  {
   "cell_type": "code",
   "execution_count": 72,
   "id": "6036a641-1897-4df6-881e-5f3cc7f6b295",
   "metadata": {},
   "outputs": [],
   "source": [
    "@staticmethod\n",
    "def recommendUsers(tx, newsID):\n",
    "    result = tx.run(\"MATCH path = (n:News{id: $newsID})-[content:CONTENT]-(e:Entity)-[content2:CONTENT]-(n2:News)-[read2:READ]-(u2:User) \"\n",
    "                    \"WHERE n2.id <> n.id \"\n",
    "                    \"WITH e, n2, u2, rand() AS rnd \"\n",
    "                    \"WITH e, n2, u2, collect(rnd)[0..1] AS rnd \"\n",
    "                    \"RETURN e.label, n2.title, u2.id AS user ORDER BY rnd LIMIT 100\", newsID=newsID)\n",
    "    return list(result)"
   ]
  },
  {
   "cell_type": "code",
   "execution_count": 73,
   "id": "08fc47be-ac4d-4a10-be00-b1398ea469eb",
   "metadata": {},
   "outputs": [
    {
     "ename": "TypeError",
     "evalue": "can only concatenate str (not \"NoneType\") to str",
     "output_type": "error",
     "traceback": [
      "\u001b[0;31m---------------------------------------------------------------------------\u001b[0m",
      "\u001b[0;31mTypeError\u001b[0m                                 Traceback (most recent call last)",
      "Cell \u001b[0;32mIn [73], line 5\u001b[0m\n\u001b[1;32m      3\u001b[0m userList \u001b[38;5;241m=\u001b[39m session\u001b[38;5;241m.\u001b[39mexecute_read(recommendUsers, newsID)\n\u001b[1;32m      4\u001b[0m \u001b[38;5;28;01mfor\u001b[39;00m user \u001b[38;5;129;01min\u001b[39;00m userList: \n\u001b[0;32m----> 5\u001b[0m     \u001b[38;5;28mprint\u001b[39m(\u001b[43mnews\u001b[49m\u001b[38;5;241;43m.\u001b[39;49m\u001b[43mget\u001b[49m\u001b[43m(\u001b[49m\u001b[38;5;124;43m\"\u001b[39;49m\u001b[38;5;124;43me.label\u001b[39;49m\u001b[38;5;124;43m\"\u001b[39;49m\u001b[43m)\u001b[49m\u001b[43m \u001b[49m\u001b[38;5;241;43m+\u001b[39;49m\u001b[43m \u001b[49m\u001b[38;5;124;43m\"\u001b[39;49m\u001b[38;5;124;43m - \u001b[39;49m\u001b[38;5;124;43m\"\u001b[39;49m\u001b[43m \u001b[49m\u001b[38;5;241;43m+\u001b[39;49m\u001b[43m \u001b[49m\u001b[43mnews\u001b[49m\u001b[38;5;241;43m.\u001b[39;49m\u001b[43mget\u001b[49m\u001b[43m(\u001b[49m\u001b[38;5;124;43m\"\u001b[39;49m\u001b[38;5;124;43mu2.id\u001b[39;49m\u001b[38;5;124;43m\"\u001b[39;49m\u001b[43m)\u001b[49m )\n",
      "\u001b[0;31mTypeError\u001b[0m: can only concatenate str (not \"NoneType\") to str"
     ]
    }
   ],
   "source": [
    "newsID = \"N107483\"\n",
    "with driver.session() as session:\n",
    "    userList = session.execute_read(recommendUsers, newsID)\n",
    "    for user in userList: \n",
    "        print(news.get(\"e.label\") + \" - \" + news.get(\"u2.id\") )"
   ]
  },
  {
   "cell_type": "markdown",
   "id": "eda6b530-5109-4c23-a504-829e33bdb870",
   "metadata": {},
   "source": [
    "• Adição de novo usuário no grafo: este recurso permite que um novo usuário\n",
    "seja adicionado ao grafo de relações existentes, informando suas preferências por\n",
    "notícias. A partir disso, ser ́a poss ́ıvel listar as not ́ıcias mais relevantes para ele."
   ]
  },
  {
   "cell_type": "code",
   "execution_count": null,
   "id": "d891b0ad-c724-4b3c-a78a-ad84abec41ec",
   "metadata": {},
   "outputs": [],
   "source": []
  },
  {
   "cell_type": "code",
   "execution_count": null,
   "id": "20bebd05-9f33-43da-8536-e7b822ea2e07",
   "metadata": {},
   "outputs": [],
   "source": []
  },
  {
   "cell_type": "markdown",
   "id": "cffad22c-83b0-410f-bd55-220b8404a772",
   "metadata": {},
   "source": [
    "• Adicão de nova notícia no grafo: este recurso permite que uma nova notícia seja\n",
    "adicionada ao grafo de relacões existentes, para que sejam listados os usuários\n",
    "potenciais que podem ter interesse nela."
   ]
  },
  {
   "cell_type": "code",
   "execution_count": null,
   "id": "ff91e19c-3736-4910-b42c-2e4d3ee4d4e9",
   "metadata": {},
   "outputs": [],
   "source": []
  },
  {
   "cell_type": "code",
   "execution_count": null,
   "id": "ab4a9fe2-520c-4341-8546-321e1e2bd9ca",
   "metadata": {},
   "outputs": [],
   "source": []
  },
  {
   "cell_type": "code",
   "execution_count": null,
   "id": "509560d8-1141-44f9-b22c-bbc9339d5430",
   "metadata": {},
   "outputs": [],
   "source": [
    "driver.close()"
   ]
  }
 ],
 "metadata": {
  "kernelspec": {
   "display_name": "Python 3 (ipykernel)",
   "language": "python",
   "name": "python3"
  },
  "language_info": {
   "codemirror_mode": {
    "name": "ipython",
    "version": 3
   },
   "file_extension": ".py",
   "mimetype": "text/x-python",
   "name": "python",
   "nbconvert_exporter": "python",
   "pygments_lexer": "ipython3",
   "version": "3.10.6"
  }
 },
 "nbformat": 4,
 "nbformat_minor": 5
}
